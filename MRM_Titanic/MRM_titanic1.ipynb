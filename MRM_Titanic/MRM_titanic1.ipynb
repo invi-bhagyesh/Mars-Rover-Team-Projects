{
 "cells": [
  {
   "cell_type": "markdown",
   "metadata": {},
   "source": [
    "Step 1: Import the necessary libraries"
   ]
  },
  {
   "cell_type": "code",
   "execution_count": 95,
   "metadata": {},
   "outputs": [],
   "source": [
    "import pandas as pd\n",
    "import numpy as np\n",
    "import matplotlib.pyplot as plt\n",
    "import seaborn as sns"
   ]
  },
  {
   "cell_type": "markdown",
   "metadata": {},
   "source": [
    "Step 2: Load dataset"
   ]
  },
  {
   "cell_type": "code",
   "execution_count": 96,
   "metadata": {},
   "outputs": [
    {
     "name": "stdout",
     "output_type": "stream",
     "text": [
      "<class 'pandas.core.frame.DataFrame'>\n",
      "RangeIndex: 891 entries, 0 to 890\n",
      "Data columns (total 12 columns):\n",
      " #   Column       Non-Null Count  Dtype  \n",
      "---  ------       --------------  -----  \n",
      " 0   PassengerId  891 non-null    int64  \n",
      " 1   Survived     891 non-null    int64  \n",
      " 2   Pclass       891 non-null    int64  \n",
      " 3   Name         891 non-null    object \n",
      " 4   Sex          891 non-null    object \n",
      " 5   Age          714 non-null    float64\n",
      " 6   SibSp        891 non-null    int64  \n",
      " 7   Parch        891 non-null    int64  \n",
      " 8   Ticket       891 non-null    object \n",
      " 9   Fare         891 non-null    float64\n",
      " 10  Cabin        204 non-null    object \n",
      " 11  Embarked     889 non-null    object \n",
      "dtypes: float64(2), int64(5), object(5)\n",
      "memory usage: 83.7+ KB\n"
     ]
    },
    {
     "data": {
      "text/html": [
       "<div>\n",
       "<style scoped>\n",
       "    .dataframe tbody tr th:only-of-type {\n",
       "        vertical-align: middle;\n",
       "    }\n",
       "\n",
       "    .dataframe tbody tr th {\n",
       "        vertical-align: top;\n",
       "    }\n",
       "\n",
       "    .dataframe thead th {\n",
       "        text-align: right;\n",
       "    }\n",
       "</style>\n",
       "<table border=\"1\" class=\"dataframe\">\n",
       "  <thead>\n",
       "    <tr style=\"text-align: right;\">\n",
       "      <th></th>\n",
       "      <th>PassengerId</th>\n",
       "      <th>Survived</th>\n",
       "      <th>Pclass</th>\n",
       "      <th>Name</th>\n",
       "      <th>Sex</th>\n",
       "      <th>Age</th>\n",
       "      <th>SibSp</th>\n",
       "      <th>Parch</th>\n",
       "      <th>Ticket</th>\n",
       "      <th>Fare</th>\n",
       "      <th>Cabin</th>\n",
       "      <th>Embarked</th>\n",
       "    </tr>\n",
       "  </thead>\n",
       "  <tbody>\n",
       "    <tr>\n",
       "      <th>0</th>\n",
       "      <td>1</td>\n",
       "      <td>0</td>\n",
       "      <td>3</td>\n",
       "      <td>Braund, Mr. Owen Harris</td>\n",
       "      <td>male</td>\n",
       "      <td>22.0</td>\n",
       "      <td>1</td>\n",
       "      <td>0</td>\n",
       "      <td>A/5 21171</td>\n",
       "      <td>7.2500</td>\n",
       "      <td>NaN</td>\n",
       "      <td>S</td>\n",
       "    </tr>\n",
       "    <tr>\n",
       "      <th>1</th>\n",
       "      <td>2</td>\n",
       "      <td>1</td>\n",
       "      <td>1</td>\n",
       "      <td>Cumings, Mrs. John Bradley (Florence Briggs Th...</td>\n",
       "      <td>female</td>\n",
       "      <td>38.0</td>\n",
       "      <td>1</td>\n",
       "      <td>0</td>\n",
       "      <td>PC 17599</td>\n",
       "      <td>71.2833</td>\n",
       "      <td>C85</td>\n",
       "      <td>C</td>\n",
       "    </tr>\n",
       "    <tr>\n",
       "      <th>2</th>\n",
       "      <td>3</td>\n",
       "      <td>1</td>\n",
       "      <td>3</td>\n",
       "      <td>Heikkinen, Miss. Laina</td>\n",
       "      <td>female</td>\n",
       "      <td>26.0</td>\n",
       "      <td>0</td>\n",
       "      <td>0</td>\n",
       "      <td>STON/O2. 3101282</td>\n",
       "      <td>7.9250</td>\n",
       "      <td>NaN</td>\n",
       "      <td>S</td>\n",
       "    </tr>\n",
       "    <tr>\n",
       "      <th>3</th>\n",
       "      <td>4</td>\n",
       "      <td>1</td>\n",
       "      <td>1</td>\n",
       "      <td>Futrelle, Mrs. Jacques Heath (Lily May Peel)</td>\n",
       "      <td>female</td>\n",
       "      <td>35.0</td>\n",
       "      <td>1</td>\n",
       "      <td>0</td>\n",
       "      <td>113803</td>\n",
       "      <td>53.1000</td>\n",
       "      <td>C123</td>\n",
       "      <td>S</td>\n",
       "    </tr>\n",
       "    <tr>\n",
       "      <th>4</th>\n",
       "      <td>5</td>\n",
       "      <td>0</td>\n",
       "      <td>3</td>\n",
       "      <td>Allen, Mr. William Henry</td>\n",
       "      <td>male</td>\n",
       "      <td>35.0</td>\n",
       "      <td>0</td>\n",
       "      <td>0</td>\n",
       "      <td>373450</td>\n",
       "      <td>8.0500</td>\n",
       "      <td>NaN</td>\n",
       "      <td>S</td>\n",
       "    </tr>\n",
       "  </tbody>\n",
       "</table>\n",
       "</div>"
      ],
      "text/plain": [
       "   PassengerId  Survived  Pclass  \\\n",
       "0            1         0       3   \n",
       "1            2         1       1   \n",
       "2            3         1       3   \n",
       "3            4         1       1   \n",
       "4            5         0       3   \n",
       "\n",
       "                                                Name     Sex   Age  SibSp  \\\n",
       "0                            Braund, Mr. Owen Harris    male  22.0      1   \n",
       "1  Cumings, Mrs. John Bradley (Florence Briggs Th...  female  38.0      1   \n",
       "2                             Heikkinen, Miss. Laina  female  26.0      0   \n",
       "3       Futrelle, Mrs. Jacques Heath (Lily May Peel)  female  35.0      1   \n",
       "4                           Allen, Mr. William Henry    male  35.0      0   \n",
       "\n",
       "   Parch            Ticket     Fare Cabin Embarked  \n",
       "0      0         A/5 21171   7.2500   NaN        S  \n",
       "1      0          PC 17599  71.2833   C85        C  \n",
       "2      0  STON/O2. 3101282   7.9250   NaN        S  \n",
       "3      0            113803  53.1000  C123        S  \n",
       "4      0            373450   8.0500   NaN        S  "
      ]
     },
     "execution_count": 96,
     "metadata": {},
     "output_type": "execute_result"
    }
   ],
   "source": [
    "# Load dataset\n",
    "dt = pd.read_csv('titanic.csv')\n",
    "dt.info()\n",
    "dt.head()"
   ]
  },
  {
   "cell_type": "markdown",
   "metadata": {},
   "source": [
    "Step 3: Check for Null values"
   ]
  },
  {
   "cell_type": "code",
   "execution_count": 97,
   "metadata": {},
   "outputs": [
    {
     "name": "stdout",
     "output_type": "stream",
     "text": [
      "PassengerId      0\n",
      "Survived         0\n",
      "Pclass           0\n",
      "Name             0\n",
      "Sex              0\n",
      "Age            177\n",
      "SibSp            0\n",
      "Parch            0\n",
      "Ticket           0\n",
      "Fare             0\n",
      "Cabin          687\n",
      "Embarked         2\n",
      "dtype: int64\n"
     ]
    }
   ],
   "source": [
    "# Check NaN (Dropping or replacing)\n",
    "print(dt.isnull().sum())"
   ]
  },
  {
   "cell_type": "markdown",
   "metadata": {},
   "source": [
    "Step 4: Data Cleaning"
   ]
  },
  {
   "cell_type": "code",
   "execution_count": 98,
   "metadata": {},
   "outputs": [
    {
     "name": "stdout",
     "output_type": "stream",
     "text": [
      "Survived    0\n",
      "Pclass      0\n",
      "Sex         0\n",
      "Age         0\n",
      "SibSp       0\n",
      "Parch       0\n",
      "Ticket      0\n",
      "Fare        0\n",
      "Embarked    0\n",
      "dtype: int64\n"
     ]
    }
   ],
   "source": [
    "# Data cleaning\n",
    "dt = dt.drop(columns=['Name', 'Cabin', 'PassengerId'])\n",
    "dt['Embarked'] = dt['Embarked'].fillna(value=0)\n",
    "dt['Age'] = dt['Age'].fillna(value=dt['Age'].median())\n",
    "\n",
    "print(dt.isnull().sum())"
   ]
  },
  {
   "cell_type": "markdown",
   "metadata": {},
   "source": [
    "Step 5: Ticket Feature engineering"
   ]
  },
  {
   "cell_type": "code",
   "execution_count": 99,
   "metadata": {},
   "outputs": [],
   "source": [
    "# Making changes to Ticket feature\n",
    "dt['Group_count'] = dt.groupby('Ticket')['Ticket'].transform('count')\n",
    "dt = dt.drop(columns=['Ticket'])"
   ]
  },
  {
   "cell_type": "markdown",
   "metadata": {},
   "source": [
    "Step 6: One Hot Encoding"
   ]
  },
  {
   "cell_type": "code",
   "execution_count": 100,
   "metadata": {},
   "outputs": [
    {
     "name": "stderr",
     "output_type": "stream",
     "text": [
      "/var/folders/8_/g5skmwpj36d4g7b3fcvrjccw0000gn/T/ipykernel_71666/3088712453.py:3: FutureWarning: Downcasting behavior in `replace` is deprecated and will be removed in a future version. To retain the old behavior, explicitly call `result.infer_objects(copy=False)`. To opt-in to the future behavior, set `pd.set_option('future.no_silent_downcasting', True)`\n",
      "  dt.replace({True: 1, False: 0}, inplace=True)\n"
     ]
    }
   ],
   "source": [
    "# One-Hot encoding\n",
    "dt = pd.get_dummies(dt, drop_first=True)\n",
    "dt.replace({True: 1, False: 0}, inplace=True)"
   ]
  },
  {
   "cell_type": "markdown",
   "metadata": {},
   "source": [
    "Step 7: Correlation"
   ]
  },
  {
   "cell_type": "code",
   "execution_count": 101,
   "metadata": {},
   "outputs": [
    {
     "name": "stdout",
     "output_type": "stream",
     "text": [
      "             Survived    Pclass       Age     SibSp     Parch      Fare  \\\n",
      "Survived     1.000000 -0.338481 -0.064910 -0.035322  0.081629  0.257307   \n",
      "Pclass      -0.338481  1.000000 -0.339898  0.083081  0.018443 -0.549500   \n",
      "Age         -0.064910 -0.339898  1.000000 -0.233296 -0.172482  0.096688   \n",
      "SibSp       -0.035322  0.083081 -0.233296  1.000000  0.414838  0.159651   \n",
      "Parch        0.081629  0.018443 -0.172482  0.414838  1.000000  0.216225   \n",
      "Fare         0.257307 -0.549500  0.096688  0.159651  0.216225  1.000000   \n",
      "Group_count  0.038247 -0.002633 -0.218669  0.661622  0.593076  0.345541   \n",
      "Sex_male    -0.543351  0.131900  0.081163 -0.114631 -0.245489 -0.182333   \n",
      "Embarked_C   0.168240 -0.243292  0.030248 -0.059528 -0.011069  0.269335   \n",
      "Embarked_Q   0.003650  0.221009 -0.031415 -0.026354 -0.081228 -0.117216   \n",
      "Embarked_S  -0.155660  0.081720 -0.014665  0.070941  0.063036 -0.166603   \n",
      "\n",
      "             Group_count  Sex_male  Embarked_C  Embarked_Q  Embarked_S  \n",
      "Survived        0.038247 -0.543351    0.168240    0.003650   -0.155660  \n",
      "Pclass         -0.002633  0.131900   -0.243292    0.221009    0.081720  \n",
      "Age            -0.218669  0.081163    0.030248   -0.031415   -0.014665  \n",
      "SibSp           0.661622 -0.114631   -0.059528   -0.026354    0.070941  \n",
      "Parch           0.593076 -0.245489   -0.011069   -0.081228    0.063036  \n",
      "Fare            0.345541 -0.182333    0.269335   -0.117216   -0.166603  \n",
      "Group_count     1.000000 -0.154748   -0.023968   -0.072426    0.065626  \n",
      "Sex_male       -0.154748  1.000000   -0.082853   -0.074115    0.125722  \n",
      "Embarked_C     -0.023968 -0.082853    1.000000   -0.148258   -0.778359  \n",
      "Embarked_Q     -0.072426 -0.074115   -0.148258    1.000000   -0.496624  \n",
      "Embarked_S      0.065626  0.125722   -0.778359   -0.496624    1.000000  \n"
     ]
    },
    {
     "data": {
      "image/png": "[encoded data removed]",
      "text/plain": [
       "<Figure size 640x480 with 2 Axes>"
      ]
     },
     "metadata": {},
     "output_type": "display_data"
    }
   ],
   "source": [
    "\n",
    "# Correlation heatmap\n",
    "dt_corr = dt.corr()\n",
    "print(dt_corr)\n",
    "sns.heatmap(dt_corr, cmap='coolwarm')\n",
    "plt.show()"
   ]
  },
  {
   "cell_type": "code",
   "execution_count": 102,
   "metadata": {},
   "outputs": [],
   "source": [
    "#Sibsp is highly correlated with Group_count\n",
    "dt = dt.drop(columns=['SibSp'])"
   ]
  },
  {
   "cell_type": "markdown",
   "metadata": {},
   "source": [
    "Step 8: Standarslisation"
   ]
  },
  {
   "cell_type": "code",
   "execution_count": 103,
   "metadata": {},
   "outputs": [],
   "source": [
    "# Standardization\n",
    "scale = ['Age', 'Fare']\n",
    "for i in scale:\n",
    "    dt[i] = (dt[i] - dt[i].mean()) / dt[i].std()"
   ]
  },
  {
   "cell_type": "markdown",
   "metadata": {},
   "source": [
    "Step 9: Data Splitting"
   ]
  },
  {
   "cell_type": "code",
   "execution_count": 104,
   "metadata": {},
   "outputs": [
    {
     "name": "stdout",
     "output_type": "stream",
     "text": [
      "Training set size: 712\n",
      "Testing set size: 179\n"
     ]
    }
   ],
   "source": [
    "\n",
    "# Splitting data\n",
    "target_column = 'Survived'  # Replace with your actual target variable\n",
    "shuffled_indices = np.random.permutation(len(dt))\n",
    "dt_shuffled = dt.iloc[shuffled_indices]\n",
    "\n",
    "# Define the split ratio\n",
    "split_ratio = 0.8\n",
    "split_index = int(len(dt) * split_ratio)\n",
    "\n",
    "# Split the data\n",
    "train_data = dt_shuffled.iloc[:split_index]\n",
    "test_data = dt_shuffled.iloc[split_index:]\n",
    "\n",
    "# Separate features and target variable\n",
    "x_train = train_data.drop(target_column, axis=1)\n",
    "y_train = train_data[target_column].values.reshape(-1, 1)  # Reshape for consistency\n",
    "x_test = test_data.drop(target_column, axis=1)\n",
    "y_test = test_data[target_column].values.reshape(-1, 1)  # Reshape for consistency\n",
    "\n",
    "# Check sizes\n",
    "print(\"Training set size:\", x_train.shape[0])\n",
    "print(\"Testing set size:\", x_test.shape[0])\n"
   ]
  },
  {
   "cell_type": "markdown",
   "metadata": {},
   "source": [
    "Step 10: Logistic Regression model"
   ]
  },
  {
   "cell_type": "code",
   "execution_count": 105,
   "metadata": {},
   "outputs": [],
   "source": [
    "# Logistic Regression Model Parameters\n",
    "n_samples, n_features = x_train.shape\n",
    "weights = np.zeros((n_features, 1))\n",
    "learning_rate = 0.1\n",
    "n_iterations = 10000\n",
    "cost_history = []\n",
    "\n",
    "# Sigmoid Function\n",
    "def sigmoid(z):\n",
    "    return 1 / (1 + np.exp(-z))\n",
    "\n",
    "# Cost function\n",
    "def compute_cost(x, y, weights):\n",
    "    predictions = sigmoid(np.dot(x, weights))\n",
    "    cost = -(1 / n_samples) * np.sum(y * np.log(predictions) + (1 - y) * np.log(1 - predictions))\n",
    "    return cost"
   ]
  },
  {
   "cell_type": "markdown",
   "metadata": {},
   "source": [
    "Step 11: Training"
   ]
  },
  {
   "cell_type": "code",
   "execution_count": 106,
   "metadata": {},
   "outputs": [
    {
     "data": {
      "image/png": "[encoded data removed]",
      "text/plain": [
       "<Figure size 800x600 with 1 Axes>"
      ]
     },
     "metadata": {},
     "output_type": "display_data"
    }
   ],
   "source": [
    "# Training with gradient descent\n",
    "for i in range(n_iterations):\n",
    "    predictions = sigmoid(np.dot(x_train, weights))\n",
    "    gradient = np.dot(x_train.T, (predictions - y_train)) / n_samples\n",
    "    weights -= learning_rate * gradient\n",
    "    cost = compute_cost(x_train, y_train, weights)\n",
    "    cost_history.append(cost)\n",
    "\n",
    "# Plot the learning curve\n",
    "plt.figure(figsize=(8, 6))\n",
    "plt.plot(range(n_iterations), cost_history, color='b')\n",
    "plt.title(\"Learning Curve (Cost vs. Iterations)\")\n",
    "plt.xlabel(\"Iterations\")\n",
    "plt.ylabel(\"Cost\")\n",
    "plt.show()"
   ]
  },
  {
   "cell_type": "markdown",
   "metadata": {},
   "source": [
    "Step 12: Testing the learning curve"
   ]
  },
  {
   "cell_type": "code",
   "execution_count": 107,
   "metadata": {},
   "outputs": [
    {
     "name": "stdout",
     "output_type": "stream",
     "text": [
      "Accuracy: 79.33%\n",
      "Precision: 0.76\n",
      "Recall: 0.69\n",
      "F1 Score: 0.72\n",
      "R^2: 0.13\n",
      "Log Loss: 0.45\n"
     ]
    },
    {
     "data": {
      "image/png": "[encoded data removed]",
      "text/plain": [
       "<Figure size 600x400 with 1 Axes>"
      ]
     },
     "metadata": {},
     "output_type": "display_data"
    }
   ],
   "source": [
    "# Prediction function\n",
    "def predict(x, weights, threshold=0.5):\n",
    "    return (sigmoid(np.dot(x, weights)) >= threshold).astype(int)\n",
    "\n",
    "# Evaluate the model on test data\n",
    "y_pred = predict(x_test, weights)\n",
    "\n",
    "# Calculate evaluation metrics\n",
    "def calculate_metrics(y_true, y_pred):\n",
    "    tp = np.sum((y_true == 1) & (y_pred == 1))\n",
    "    tn = np.sum((y_true == 0) & (y_pred == 0))\n",
    "    fp = np.sum((y_true == 0) & (y_pred == 1))\n",
    "    fn = np.sum((y_true == 1) & (y_pred == 0))\n",
    "\n",
    "    accuracy = (tp + tn) / len(y_true)\n",
    "    precision = tp / (tp + fp) if (tp + fp) > 0 else 0\n",
    "    recall = tp / (tp + fn) if (tp + fn) > 0 else 0\n",
    "    f1_score = 2 * (precision * recall) / (precision + recall) if (precision + recall) > 0 else 0\n",
    "\n",
    "    mean_y = np.mean(y_true)\n",
    "    ss_total = np.sum((y_true - mean_y) ** 2)\n",
    "    ss_residual = np.sum((y_true - y_pred) ** 2)\n",
    "    r2 = 1 - (ss_residual / ss_total)\n",
    "\n",
    "    print(f\"Accuracy: {accuracy * 100:.2f}%\")\n",
    "    print(f\"Precision: {precision:.2f}\")\n",
    "    print(f\"Recall: {recall:.2f}\")\n",
    "    print(f\"F1 Score: {f1_score:.2f}\")\n",
    "    print(f\"R^2: {r2:.2f}\")\n",
    "    print(f\"Log Loss: {cost:.2f}\")\n",
    "\n",
    "    # Confusion matrix visualization\n",
    "    plt.figure(figsize=(6, 4))\n",
    "    plt.bar(['True Positive', 'True Negative', 'False Positive', 'False Negative'], [tp, tn, fp, fn], color=['green', 'blue', 'red', 'orange'])\n",
    "    plt.title(\"Confusion Matrix\")\n",
    "    plt.show()\n",
    "\n",
    "    return accuracy, f1_score\n",
    "\n",
    "# Calculate and print metrics on the test set\n",
    "accuracy, f1_score = calculate_metrics(y_test, y_pred)"
   ]
  }
 ],
 "metadata": {
  "kernelspec": {
   "display_name": "Python 3",
   "language": "python",
   "name": "python3"
  },
  "language_info": {
   "codemirror_mode": {
    "name": "ipython",
    "version": 3
   },
   "file_extension": ".py",
   "mimetype": "text/x-python",
   "name": "python",
   "nbconvert_exporter": "python",
   "pygments_lexer": "ipython3",
   "version": "3.12.6"
  }
 },
 "nbformat": 4,
 "nbformat_minor": 2
}
