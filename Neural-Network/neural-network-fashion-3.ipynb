{
 "cells": [
  {
   "cell_type": "code",
   "execution_count": 1,
   "metadata": {
    "execution": {
     "iopub.execute_input": "2025-01-17T00:35:17.709738Z",
     "iopub.status.busy": "2025-01-17T00:35:17.709270Z",
     "iopub.status.idle": "2025-01-17T00:35:17.715000Z",
     "shell.execute_reply": "2025-01-17T00:35:17.713717Z",
     "shell.execute_reply.started": "2025-01-17T00:35:17.709685Z"
    },
    "trusted": true
   },
   "outputs": [],
   "source": [
    "import numpy as np\n",
    "import pandas as pd\n",
    "import matplotlib.pyplot as plt\n",
    "import seaborn as sns"
   ]
  },
  {
   "cell_type": "code",
   "execution_count": 2,
   "metadata": {
    "execution": {
     "iopub.execute_input": "2025-01-17T00:35:17.717196Z",
     "iopub.status.busy": "2025-01-17T00:35:17.716761Z",
     "iopub.status.idle": "2025-01-17T00:35:22.228183Z",
     "shell.execute_reply": "2025-01-17T00:35:22.226979Z",
     "shell.execute_reply.started": "2025-01-17T00:35:17.717127Z"
    },
    "trusted": true
   },
   "outputs": [],
   "source": [
    "data = pd.read_csv('fashion-mnist_train.csv')\n",
    "data_test = pd.read_csv('fashion-mnist_test.csv')"
   ]
  },
  {
   "cell_type": "code",
   "execution_count": 3,
   "metadata": {
    "execution": {
     "iopub.execute_input": "2025-01-17T00:35:22.230548Z",
     "iopub.status.busy": "2025-01-17T00:35:22.230144Z",
     "iopub.status.idle": "2025-01-17T00:35:22.245709Z",
     "shell.execute_reply": "2025-01-17T00:35:22.244738Z",
     "shell.execute_reply.started": "2025-01-17T00:35:22.230505Z"
    },
    "trusted": true
   },
   "outputs": [
    {
     "data": {
      "text/html": [
       "<div>\n",
       "<style scoped>\n",
       "    .dataframe tbody tr th:only-of-type {\n",
       "        vertical-align: middle;\n",
       "    }\n",
       "\n",
       "    .dataframe tbody tr th {\n",
       "        vertical-align: top;\n",
       "    }\n",
       "\n",
       "    .dataframe thead th {\n",
       "        text-align: right;\n",
       "    }\n",
       "</style>\n",
       "<table border=\"1\" class=\"dataframe\">\n",
       "  <thead>\n",
       "    <tr style=\"text-align: right;\">\n",
       "      <th></th>\n",
       "      <th>label</th>\n",
       "      <th>pixel1</th>\n",
       "      <th>pixel2</th>\n",
       "      <th>pixel3</th>\n",
       "      <th>pixel4</th>\n",
       "      <th>pixel5</th>\n",
       "      <th>pixel6</th>\n",
       "      <th>pixel7</th>\n",
       "      <th>pixel8</th>\n",
       "      <th>pixel9</th>\n",
       "      <th>...</th>\n",
       "      <th>pixel775</th>\n",
       "      <th>pixel776</th>\n",
       "      <th>pixel777</th>\n",
       "      <th>pixel778</th>\n",
       "      <th>pixel779</th>\n",
       "      <th>pixel780</th>\n",
       "      <th>pixel781</th>\n",
       "      <th>pixel782</th>\n",
       "      <th>pixel783</th>\n",
       "      <th>pixel784</th>\n",
       "    </tr>\n",
       "  </thead>\n",
       "  <tbody>\n",
       "    <tr>\n",
       "      <th>0</th>\n",
       "      <td>2</td>\n",
       "      <td>0</td>\n",
       "      <td>0</td>\n",
       "      <td>0</td>\n",
       "      <td>0</td>\n",
       "      <td>0</td>\n",
       "      <td>0</td>\n",
       "      <td>0</td>\n",
       "      <td>0</td>\n",
       "      <td>0</td>\n",
       "      <td>...</td>\n",
       "      <td>0</td>\n",
       "      <td>0</td>\n",
       "      <td>0</td>\n",
       "      <td>0</td>\n",
       "      <td>0</td>\n",
       "      <td>0</td>\n",
       "      <td>0</td>\n",
       "      <td>0</td>\n",
       "      <td>0</td>\n",
       "      <td>0</td>\n",
       "    </tr>\n",
       "    <tr>\n",
       "      <th>1</th>\n",
       "      <td>9</td>\n",
       "      <td>0</td>\n",
       "      <td>0</td>\n",
       "      <td>0</td>\n",
       "      <td>0</td>\n",
       "      <td>0</td>\n",
       "      <td>0</td>\n",
       "      <td>0</td>\n",
       "      <td>0</td>\n",
       "      <td>0</td>\n",
       "      <td>...</td>\n",
       "      <td>0</td>\n",
       "      <td>0</td>\n",
       "      <td>0</td>\n",
       "      <td>0</td>\n",
       "      <td>0</td>\n",
       "      <td>0</td>\n",
       "      <td>0</td>\n",
       "      <td>0</td>\n",
       "      <td>0</td>\n",
       "      <td>0</td>\n",
       "    </tr>\n",
       "    <tr>\n",
       "      <th>2</th>\n",
       "      <td>6</td>\n",
       "      <td>0</td>\n",
       "      <td>0</td>\n",
       "      <td>0</td>\n",
       "      <td>0</td>\n",
       "      <td>0</td>\n",
       "      <td>0</td>\n",
       "      <td>0</td>\n",
       "      <td>5</td>\n",
       "      <td>0</td>\n",
       "      <td>...</td>\n",
       "      <td>0</td>\n",
       "      <td>0</td>\n",
       "      <td>0</td>\n",
       "      <td>30</td>\n",
       "      <td>43</td>\n",
       "      <td>0</td>\n",
       "      <td>0</td>\n",
       "      <td>0</td>\n",
       "      <td>0</td>\n",
       "      <td>0</td>\n",
       "    </tr>\n",
       "    <tr>\n",
       "      <th>3</th>\n",
       "      <td>0</td>\n",
       "      <td>0</td>\n",
       "      <td>0</td>\n",
       "      <td>0</td>\n",
       "      <td>1</td>\n",
       "      <td>2</td>\n",
       "      <td>0</td>\n",
       "      <td>0</td>\n",
       "      <td>0</td>\n",
       "      <td>0</td>\n",
       "      <td>...</td>\n",
       "      <td>3</td>\n",
       "      <td>0</td>\n",
       "      <td>0</td>\n",
       "      <td>0</td>\n",
       "      <td>0</td>\n",
       "      <td>1</td>\n",
       "      <td>0</td>\n",
       "      <td>0</td>\n",
       "      <td>0</td>\n",
       "      <td>0</td>\n",
       "    </tr>\n",
       "    <tr>\n",
       "      <th>4</th>\n",
       "      <td>3</td>\n",
       "      <td>0</td>\n",
       "      <td>0</td>\n",
       "      <td>0</td>\n",
       "      <td>0</td>\n",
       "      <td>0</td>\n",
       "      <td>0</td>\n",
       "      <td>0</td>\n",
       "      <td>0</td>\n",
       "      <td>0</td>\n",
       "      <td>...</td>\n",
       "      <td>0</td>\n",
       "      <td>0</td>\n",
       "      <td>0</td>\n",
       "      <td>0</td>\n",
       "      <td>0</td>\n",
       "      <td>0</td>\n",
       "      <td>0</td>\n",
       "      <td>0</td>\n",
       "      <td>0</td>\n",
       "      <td>0</td>\n",
       "    </tr>\n",
       "  </tbody>\n",
       "</table>\n",
       "<p>5 rows × 785 columns</p>\n",
       "</div>"
      ],
      "text/plain": [
       "   label  pixel1  pixel2  pixel3  pixel4  pixel5  pixel6  pixel7  pixel8  \\\n",
       "0      2       0       0       0       0       0       0       0       0   \n",
       "1      9       0       0       0       0       0       0       0       0   \n",
       "2      6       0       0       0       0       0       0       0       5   \n",
       "3      0       0       0       0       1       2       0       0       0   \n",
       "4      3       0       0       0       0       0       0       0       0   \n",
       "\n",
       "   pixel9  ...  pixel775  pixel776  pixel777  pixel778  pixel779  pixel780  \\\n",
       "0       0  ...         0         0         0         0         0         0   \n",
       "1       0  ...         0         0         0         0         0         0   \n",
       "2       0  ...         0         0         0        30        43         0   \n",
       "3       0  ...         3         0         0         0         0         1   \n",
       "4       0  ...         0         0         0         0         0         0   \n",
       "\n",
       "   pixel781  pixel782  pixel783  pixel784  \n",
       "0         0         0         0         0  \n",
       "1         0         0         0         0  \n",
       "2         0         0         0         0  \n",
       "3         0         0         0         0  \n",
       "4         0         0         0         0  \n",
       "\n",
       "[5 rows x 785 columns]"
      ]
     },
     "execution_count": 3,
     "metadata": {},
     "output_type": "execute_result"
    }
   ],
   "source": [
    "data.head()"
   ]
  },
  {
   "cell_type": "code",
   "execution_count": 4,
   "metadata": {
    "execution": {
     "iopub.execute_input": "2025-01-17T00:35:22.247674Z",
     "iopub.status.busy": "2025-01-17T00:35:22.247355Z",
     "iopub.status.idle": "2025-01-17T00:35:22.571084Z",
     "shell.execute_reply": "2025-01-17T00:35:22.570197Z",
     "shell.execute_reply.started": "2025-01-17T00:35:22.247647Z"
    },
    "trusted": true
   },
   "outputs": [
    {
     "data": {
      "image/png": "[encoded data removed]",
      "text/plain": [
       "<Figure size 1000x200 with 5 Axes>"
      ]
     },
     "metadata": {},
     "output_type": "display_data"
    }
   ],
   "source": [
    "labels = data.iloc[:, 0].values  # .values convert to numpy arrays\n",
    "pixels = data.iloc[:, 1:].values  # Remaining columns are pixel values (784 pixels for each image)\n",
    "\n",
    "num_images_to_show = 5 \n",
    "fig, axes = plt.subplots(1, num_images_to_show, figsize=(10, 2))\n",
    "\n",
    "for i in range(num_images_to_show):\n",
    "    ax = axes[i]\n",
    "    ax.imshow(pixels[i].reshape(28, 28))  # Reshape and display as 28x28 image\n",
    "    ax.set_title(f\"Label: {labels[i]}\")\n",
    "    ax.axis('off')\n",
    "plt.show()"
   ]
  },
  {
   "cell_type": "markdown",
   "metadata": {},
   "source": [
    "# Data Preprocessing"
   ]
  },
  {
   "cell_type": "code",
   "execution_count": 5,
   "metadata": {
    "execution": {
     "iopub.execute_input": "2025-01-17T00:35:22.572319Z",
     "iopub.status.busy": "2025-01-17T00:35:22.571918Z",
     "iopub.status.idle": "2025-01-17T00:35:22.617031Z",
     "shell.execute_reply": "2025-01-17T00:35:22.616097Z",
     "shell.execute_reply.started": "2025-01-17T00:35:22.572293Z"
    },
    "trusted": true
   },
   "outputs": [
    {
     "name": "stdout",
     "output_type": "stream",
     "text": [
      "label       0\n",
      "pixel1      0\n",
      "pixel2      0\n",
      "pixel3      0\n",
      "pixel4      0\n",
      "           ..\n",
      "pixel780    0\n",
      "pixel781    0\n",
      "pixel782    0\n",
      "pixel783    0\n",
      "pixel784    0\n",
      "Length: 785, dtype: int64\n"
     ]
    }
   ],
   "source": [
    "print(data.isnull().sum())"
   ]
  },
  {
   "cell_type": "code",
   "execution_count": 6,
   "metadata": {
    "execution": {
     "iopub.execute_input": "2025-01-17T00:35:22.618266Z",
     "iopub.status.busy": "2025-01-17T00:35:22.617991Z",
     "iopub.status.idle": "2025-01-17T00:35:22.622184Z",
     "shell.execute_reply": "2025-01-17T00:35:22.621339Z",
     "shell.execute_reply.started": "2025-01-17T00:35:22.618232Z"
    },
    "trusted": true
   },
   "outputs": [],
   "source": [
    "train = data.to_numpy()\n",
    "test = data_test.to_numpy()"
   ]
  },
  {
   "cell_type": "code",
   "execution_count": 7,
   "metadata": {
    "execution": {
     "iopub.execute_input": "2025-01-17T00:35:22.623430Z",
     "iopub.status.busy": "2025-01-17T00:35:22.623102Z",
     "iopub.status.idle": "2025-01-17T00:35:22.640378Z",
     "shell.execute_reply": "2025-01-17T00:35:22.639261Z",
     "shell.execute_reply.started": "2025-01-17T00:35:22.623402Z"
    },
    "trusted": true
   },
   "outputs": [
    {
     "name": "stdout",
     "output_type": "stream",
     "text": [
      "Train shape: (60000, 785)\n",
      "Test shape: (10000, 785)\n"
     ]
    }
   ],
   "source": [
    "ms = train.shape[0]  # Number of examples in training set\n",
    "ns = train.shape[1]  # Number of pixels in training set\n",
    "mt, nt = test.shape  # Number of samples and features in test set\n",
    "\n",
    "print(f\"Train shape: {train.shape}\")\n",
    "print(f\"Test shape: {test.shape}\")"
   ]
  },
  {
   "cell_type": "markdown",
   "metadata": {},
   "source": [
    "#### Splitting data"
   ]
  },
  {
   "cell_type": "code",
   "execution_count": 8,
   "metadata": {
    "execution": {
     "iopub.execute_input": "2025-01-17T00:35:22.643261Z",
     "iopub.status.busy": "2025-01-17T00:35:22.642927Z",
     "iopub.status.idle": "2025-01-17T00:35:22.860865Z",
     "shell.execute_reply": "2025-01-17T00:35:22.859935Z",
     "shell.execute_reply.started": "2025-01-17T00:35:22.643233Z"
    },
    "trusted": true
   },
   "outputs": [
    {
     "name": "stdout",
     "output_type": "stream",
     "text": [
      "X_train shape: (784, 60000)\n",
      "y_train shape: (60000,)\n"
     ]
    }
   ],
   "source": [
    "# Split train data into features and labels\n",
    "X_train = train[:, 1:ns]  # pixels (excluding the first column which is the label)\n",
    "X_train = (X_train.T) / 255  # Normalize and transpose \n",
    "\n",
    "y_train = train[:, 0]  # Labels\n",
    "\n",
    "#same for test set\n",
    "X_test = test[:, 1:nt] \n",
    "X_test = (X_test.T) / 255  \n",
    "y_test = test[:, 0] \n",
    "\n",
    "print(f\"X_train shape: {X_train.shape}\")\n",
    "print(f\"y_train shape: {y_train.shape}\")"
   ]
  },
  {
   "cell_type": "markdown",
   "metadata": {},
   "source": [
    "#### Splitting into training and dev set"
   ]
  },
  {
   "cell_type": "code",
   "execution_count": 9,
   "metadata": {
    "execution": {
     "iopub.execute_input": "2025-01-17T00:35:23.038548Z",
     "iopub.status.busy": "2025-01-17T00:35:23.038286Z",
     "iopub.status.idle": "2025-01-17T00:35:23.045392Z",
     "shell.execute_reply": "2025-01-17T00:35:23.044431Z",
     "shell.execute_reply.started": "2025-01-17T00:35:23.038522Z"
    },
    "trusted": true
   },
   "outputs": [
    {
     "name": "stdout",
     "output_type": "stream",
     "text": [
      "X_train_split shape: (784, 48000)\n",
      "y_train_split shape: (48000,)\n",
      "X_dev_split shape: (784, 12000)\n",
      "y_dev_split shape: (12000,)\n"
     ]
    }
   ],
   "source": [
    "# Split the training data into training and development sets\n",
    "split_ratio = 0.8  # 80% for training, 20% for development\n",
    "train_size = int(ms * split_ratio)  # Number of training samples\n",
    "dev_size = ms - train_size  # Number of development samples\n",
    "\n",
    "# Create train and dev sets for features and labels\n",
    "X_train_split = X_train[:, :train_size]  # First 80% of the samples for training\n",
    "y_train_split = y_train[:train_size]  # Corresponding labels for training\n",
    "\n",
    "X_dev_split = X_train[:, train_size:]  # Remaining 20% for development\n",
    "y_dev_split = y_train[train_size:]  # Corresponding labels for development\n",
    "\n",
    "# Print the shapes of the resulting datasets\n",
    "print(f\"X_train_split shape: {X_train_split.shape}\")\n",
    "print(f\"y_train_split shape: {y_train_split.shape}\")\n",
    "print(f\"X_dev_split shape: {X_dev_split.shape}\")\n",
    "print(f\"y_dev_split shape: {y_dev_split.shape}\")"
   ]
  },
  {
   "cell_type": "code",
   "execution_count": 10,
   "metadata": {
    "execution": {
     "iopub.execute_input": "2025-01-17T00:35:23.046669Z",
     "iopub.status.busy": "2025-01-17T00:35:23.046357Z",
     "iopub.status.idle": "2025-01-17T00:35:23.064326Z",
     "shell.execute_reply": "2025-01-17T00:35:23.063270Z",
     "shell.execute_reply.started": "2025-01-17T00:35:23.046632Z"
    },
    "trusted": true
   },
   "outputs": [],
   "source": [
    "m = X_train.shape[1]   #number of training examples\n",
    "n = X_train.shape[0]   #number of features (pixels)\n",
    "neuron1 = 256 #tried 397 but no noticeable difference observed\n",
    "neuron2 = 10"
   ]
  },
  {
   "cell_type": "markdown",
   "metadata": {},
   "source": [
    "# Neural Network Model"
   ]
  },
  {
   "cell_type": "markdown",
   "metadata": {},
   "source": [
    "#### Initializing parameters"
   ]
  },
  {
   "cell_type": "code",
   "execution_count": 11,
   "metadata": {
    "execution": {
     "iopub.execute_input": "2025-01-17T00:35:23.065783Z",
     "iopub.status.busy": "2025-01-17T00:35:23.065418Z",
     "iopub.status.idle": "2025-01-17T00:35:23.079734Z",
     "shell.execute_reply": "2025-01-17T00:35:23.078804Z",
     "shell.execute_reply.started": "2025-01-17T00:35:23.065742Z"
    },
    "trusted": true
   },
   "outputs": [],
   "source": [
    "def init_params():\n",
    "    W1 = np.random.rand(neuron1,n) * np.sqrt(2 / (n))  #He initialization\n",
    "    b1 = np.zeros((neuron1,1))\n",
    "    W2 = np.random.rand(neuron2,neuron1) * np.sqrt(2 / (neuron1))# He initialization\n",
    "    b2 = np.zeros((neuron2,1))\n",
    "    return W1,b1,W2,b2"
   ]
  },
  {
   "cell_type": "markdown",
   "metadata": {},
   "source": [
    "#### Definining activation fucntion"
   ]
  },
  {
   "cell_type": "code",
   "execution_count": 12,
   "metadata": {
    "execution": {
     "iopub.execute_input": "2025-01-17T00:35:23.080938Z",
     "iopub.status.busy": "2025-01-17T00:35:23.080675Z",
     "iopub.status.idle": "2025-01-17T00:35:23.094892Z",
     "shell.execute_reply": "2025-01-17T00:35:23.093882Z",
     "shell.execute_reply.started": "2025-01-17T00:35:23.080914Z"
    },
    "trusted": true
   },
   "outputs": [],
   "source": [
    "def ReLU(z):\n",
    "    return np.maximum(z,0)\n",
    "\n",
    "def ReLU_deriv(z):\n",
    "    return z>0"
   ]
  },
  {
   "cell_type": "code",
   "execution_count": 13,
   "metadata": {
    "execution": {
     "iopub.execute_input": "2025-01-17T00:35:23.096341Z",
     "iopub.status.busy": "2025-01-17T00:35:23.095992Z",
     "iopub.status.idle": "2025-01-17T00:35:23.109230Z",
     "shell.execute_reply": "2025-01-17T00:35:23.108193Z",
     "shell.execute_reply.started": "2025-01-17T00:35:23.096306Z"
    },
    "trusted": true
   },
   "outputs": [],
   "source": [
    "def softmax(z):\n",
    "    return np.exp(z)/np.sum(np.exp(z),axis=0)"
   ]
  },
  {
   "cell_type": "code",
   "execution_count": 14,
   "metadata": {
    "execution": {
     "iopub.execute_input": "2025-01-17T00:35:23.110580Z",
     "iopub.status.busy": "2025-01-17T00:35:23.110302Z",
     "iopub.status.idle": "2025-01-17T00:35:23.125875Z",
     "shell.execute_reply": "2025-01-17T00:35:23.124932Z",
     "shell.execute_reply.started": "2025-01-17T00:35:23.110554Z"
    },
    "trusted": true
   },
   "outputs": [],
   "source": [
    "def compute_loss(A2, y):\n",
    "    m = y.shape[0]  # Number of examples\n",
    "    Y = np.eye(A2.shape[0])[y]  # Convert y into one-hot encoded form\n",
    "    log_probs = -np.log(A2)  # Cross-entropy loss calculation\n",
    "    loss = np.sum(log_probs * Y.T) / m  # Transpose Y to align with log_probs for multiplication\n",
    "    return loss"
   ]
  },
  {
   "cell_type": "markdown",
   "metadata": {},
   "source": [
    "#### One-hot Encoding"
   ]
  },
  {
   "cell_type": "code",
   "execution_count": 15,
   "metadata": {
    "execution": {
     "iopub.execute_input": "2025-01-17T00:35:23.127277Z",
     "iopub.status.busy": "2025-01-17T00:35:23.126873Z",
     "iopub.status.idle": "2025-01-17T00:35:23.134726Z",
     "shell.execute_reply": "2025-01-17T00:35:23.133907Z",
     "shell.execute_reply.started": "2025-01-17T00:35:23.127236Z"
    },
    "trusted": true
   },
   "outputs": [],
   "source": [
    "def one_hot(Y):\n",
    "    m = Y.size  # number of examples\n",
    "    init_one = np.zeros((neuron2, m))  # Create a matrix of shape (neuron2, m)\n",
    "    \n",
    "    for i in range(m):\n",
    "        init_one[Y[i], i] = 1  # Set the appropriate position to 1\n",
    "    #rows - labels\n",
    "    #columns - examples\n",
    "    return init_one"
   ]
  },
  {
   "cell_type": "markdown",
   "metadata": {},
   "source": [
    "#### Forward Propagation"
   ]
  },
  {
   "cell_type": "code",
   "execution_count": 16,
   "metadata": {
    "execution": {
     "iopub.execute_input": "2025-01-17T00:35:23.135934Z",
     "iopub.status.busy": "2025-01-17T00:35:23.135655Z",
     "iopub.status.idle": "2025-01-17T00:35:23.149719Z",
     "shell.execute_reply": "2025-01-17T00:35:23.148659Z",
     "shell.execute_reply.started": "2025-01-17T00:35:23.135909Z"
    },
    "trusted": true
   },
   "outputs": [],
   "source": [
    "def forward_pass(W1,b1,W2,b2,X):\n",
    "    Z1 = W1.dot(X) + b1    #(neuron1,m)\n",
    "    A1 = ReLU(Z1)          #(neuron1,m)\n",
    "    Z2 = W2.dot(A1) + b2   #y_hat  (neuron2,m)\n",
    "    Z2 = (Z2 - np.mean(Z2))/(np.std(Z2)) \n",
    "    A2 = softmax(Z2)       #p(y_hat) (neuron2,m)\n",
    "    return Z1, A1, Z2, A2"
   ]
  },
  {
   "cell_type": "markdown",
   "metadata": {},
   "source": [
    "#### Backward Propagation"
   ]
  },
  {
   "cell_type": "code",
   "execution_count": 17,
   "metadata": {
    "execution": {
     "iopub.execute_input": "2025-01-17T00:35:23.151036Z",
     "iopub.status.busy": "2025-01-17T00:35:23.150685Z",
     "iopub.status.idle": "2025-01-17T00:35:23.167720Z",
     "shell.execute_reply": "2025-01-17T00:35:23.166777Z",
     "shell.execute_reply.started": "2025-01-17T00:35:23.150997Z"
    },
    "trusted": true
   },
   "outputs": [],
   "source": [
    "def crossentropy_backpropagation(Z1, A1, Z2, A2, W2, X, y):\n",
    "    Y_one_hot = one_hot(y)\n",
    "    \n",
    "    dL_dZ2 = A2 - Y_one_hot            #(neuron2,m)\n",
    "    dL_db2 = (1/m) * (np.sum(dL_dZ2, axis=1).reshape(neuron2,1))    #(neuron2,1)\n",
    "    dL_dW2 = (1/m) * (dL_dZ2.dot(A1.T))         #(neuron2,neuron1)\n",
    "    \n",
    "    dL_dZ1 = W2.T.dot(dL_dZ2) * ReLU_deriv(Z1)  #(neuron1,m)\n",
    "    dL_db1 = (1/m) * (np.sum(dL_dZ1, axis=1).reshape(neuron1,1))    #(neuron1,1)\n",
    "    dL_dW1 = (1/m) * (dL_dZ1.dot(X.T))          #(neuron1,n)\n",
    "    \n",
    "    return dL_db2, dL_dW2, dL_db1, dL_dW1"
   ]
  },
  {
   "cell_type": "markdown",
   "metadata": {},
   "source": [
    "#### Update Parameters"
   ]
  },
  {
   "cell_type": "code",
   "execution_count": 18,
   "metadata": {
    "execution": {
     "iopub.execute_input": "2025-01-17T00:35:23.169169Z",
     "iopub.status.busy": "2025-01-17T00:35:23.168833Z",
     "iopub.status.idle": "2025-01-17T00:35:23.182225Z",
     "shell.execute_reply": "2025-01-17T00:35:23.181166Z",
     "shell.execute_reply.started": "2025-01-17T00:35:23.169129Z"
    },
    "trusted": true
   },
   "outputs": [],
   "source": [
    "def update_parameters(W1,b1,W2,b2, dL_db1,dL_dW1, dL_db2,dL_dW2, alpha):\n",
    "    W1 = W1 - alpha*dL_dW1\n",
    "    b1 = b1 - alpha*dL_db1\n",
    "    W2 = W2 - alpha*dL_dW2\n",
    "    b2 = b2 - alpha*dL_db2\n",
    "    return W1,b1,W2,b2"
   ]
  },
  {
   "cell_type": "markdown",
   "metadata": {},
   "source": [
    "#### Predictions"
   ]
  },
  {
   "cell_type": "code",
   "execution_count": 19,
   "metadata": {
    "execution": {
     "iopub.execute_input": "2025-01-17T00:35:23.183610Z",
     "iopub.status.busy": "2025-01-17T00:35:23.183281Z",
     "iopub.status.idle": "2025-01-17T00:35:23.191892Z",
     "shell.execute_reply": "2025-01-17T00:35:23.190929Z",
     "shell.execute_reply.started": "2025-01-17T00:35:23.183581Z"
    },
    "trusted": true
   },
   "outputs": [],
   "source": [
    "def get_predictions(A2):\n",
    "    return np.argmax(A2,0)\n",
    "    \n",
    "def get_accuracy(predictions,y):\n",
    "    return np.sum(predictions == y)/y.size"
   ]
  },
  {
   "cell_type": "markdown",
   "metadata": {},
   "source": [
    "#### Gradient Descent"
   ]
  },
  {
   "cell_type": "code",
   "execution_count": 21,
   "metadata": {},
   "outputs": [],
   "source": [
    "def gradient_descent(X, y, X_dev, y_dev, epochs, alpha):\n",
    "    W1, b1, W2, b2 = init_params()\n",
    "    \n",
    "    # List to store the loss values for each iteration\n",
    "    loss_values = []\n",
    "    \n",
    "    for i in range(epochs):\n",
    "        Z1, A1, Z2, A2 = forward_pass(W1, b1, W2, b2, X)\n",
    "        \n",
    "        # Calculate the loss (Cross-Entropy Loss) for training set\n",
    "        loss = compute_loss(A2, y)  \n",
    "        loss_values.append(loss)  # Store the loss\n",
    "        \n",
    "        # Backpropagation\n",
    "        dL_db2, dL_dW2, dL_db1, dL_dW1 = crossentropy_backpropagation(Z1, A1, Z2, A2, W2, X, y) \n",
    "        \n",
    "        # Update parameters\n",
    "        W1, b1, W2, b2 = update_parameters(W1, b1, W2, b2, dL_db1, dL_dW1, dL_db2, dL_dW2, alpha)\n",
    "        \n",
    "        if i % 100 == 0:\n",
    "            train_accuracy = get_accuracy(get_predictions(A2), y)\n",
    "            \n",
    "            # Calculate dev set loss (without affecting training), dev doesn't get optimized as its parameter are not updated\n",
    "            _, _, _, A2_dev = forward_pass(W1, b1, W2, b2, X_dev)\n",
    "            dev_loss = compute_loss(A2_dev, y_dev)  # Calculate the loss on dev set\n",
    "            dev_accuracy = get_accuracy(get_predictions(A2_dev), y_dev)\n",
    "            \n",
    "            print(f\"Iteration: {i}  Train Accuracy = {train_accuracy:.4f}  Dev Accuracy = {dev_accuracy:.4f}\")\n",
    "            print(f\"Train cost: {loss:.4f}  Dev cost: {dev_loss:.4f}\")\n",
    "            print('-'*40)\n",
    "    \n",
    "    plt.plot(range(epochs), loss_values, label='Training cost')\n",
    "    plt.xlabel('Iteration')\n",
    "    plt.ylabel('cost')\n",
    "    plt.title('Cost vs Iteration')\n",
    "    plt.legend()\n",
    "    plt.show()\n",
    "    \n",
    "    return W1, b1, W2, b2, Z2, A2"
   ]
  },
  {
   "cell_type": "markdown",
   "metadata": {},
   "source": [
    "# Training"
   ]
  },
  {
   "cell_type": "markdown",
   "metadata": {},
   "source": [
    "- Slowed down with alpha 0.01 compared to 0.1 with dev accuracy 0.64 at 1500 iterations\n",
    "- Iterations set to 1500 as seen converging and start to overfit beyond it\n",
    "- Better result at 256 neurons than 128 in layer 1 with 84.09% accuracy for train\n",
    "- No noticeable difference when trained at 397 neuron which is mean of input and output feature."
   ]
  },
  {
   "cell_type": "code",
   "execution_count": 22,
   "metadata": {
    "execution": {
     "iopub.execute_input": "2025-01-17T00:35:23.207697Z",
     "iopub.status.busy": "2025-01-17T00:35:23.207336Z"
    },
    "trusted": true
   },
   "outputs": [
    {
     "name": "stdout",
     "output_type": "stream",
     "text": [
      "Iteration: 0  Train Accuracy = 0.0998  Dev Accuracy = 0.0973\n",
      "Train cost: 2.4221  Dev cost: 6.1375\n",
      "----------------------------------------\n",
      "Iteration: 100  Train Accuracy = 0.6820  Dev Accuracy = 0.6927\n",
      "Train cost: 0.9180  Dev cost: 0.8898\n",
      "----------------------------------------\n",
      "Iteration: 200  Train Accuracy = 0.7518  Dev Accuracy = 0.7432\n",
      "Train cost: 0.7128  Dev cost: 0.7167\n",
      "----------------------------------------\n",
      "Iteration: 300  Train Accuracy = 0.7917  Dev Accuracy = 0.7798\n",
      "Train cost: 0.6192  Dev cost: 0.6329\n",
      "----------------------------------------\n",
      "Iteration: 400  Train Accuracy = 0.8070  Dev Accuracy = 0.8021\n",
      "Train cost: 0.5663  Dev cost: 0.5868\n",
      "----------------------------------------\n",
      "Iteration: 500  Train Accuracy = 0.8167  Dev Accuracy = 0.8129\n",
      "Train cost: 0.5340  Dev cost: 0.5580\n",
      "----------------------------------------\n",
      "Iteration: 600  Train Accuracy = 0.8230  Dev Accuracy = 0.8199\n",
      "Train cost: 0.5122  Dev cost: 0.5363\n",
      "----------------------------------------\n",
      "Iteration: 700  Train Accuracy = 0.8288  Dev Accuracy = 0.8238\n",
      "Train cost: 0.4953  Dev cost: 0.5199\n",
      "----------------------------------------\n",
      "Iteration: 800  Train Accuracy = 0.8331  Dev Accuracy = 0.8277\n",
      "Train cost: 0.4818  Dev cost: 0.5066\n",
      "----------------------------------------\n",
      "Iteration: 900  Train Accuracy = 0.8366  Dev Accuracy = 0.8321\n",
      "Train cost: 0.4708  Dev cost: 0.4956\n",
      "----------------------------------------\n",
      "Iteration: 1000  Train Accuracy = 0.8395  Dev Accuracy = 0.8323\n",
      "Train cost: 0.4614  Dev cost: 0.4875\n",
      "----------------------------------------\n",
      "Iteration: 1100  Train Accuracy = 0.8405  Dev Accuracy = 0.8377\n",
      "Train cost: 0.4588  Dev cost: 0.4787\n",
      "----------------------------------------\n",
      "Iteration: 1200  Train Accuracy = 0.8459  Dev Accuracy = 0.8376\n",
      "Train cost: 0.4446  Dev cost: 0.4710\n",
      "----------------------------------------\n",
      "Iteration: 1300  Train Accuracy = 0.8484  Dev Accuracy = 0.8404\n",
      "Train cost: 0.4378  Dev cost: 0.4645\n",
      "----------------------------------------\n",
      "Iteration: 1400  Train Accuracy = 0.8487  Dev Accuracy = 0.8415\n",
      "Train cost: 0.4364  Dev cost: 0.4624\n",
      "----------------------------------------\n",
      "Iteration: 1500  Train Accuracy = 0.8509  Dev Accuracy = 0.8409\n",
      "Train cost: 0.4301  Dev cost: 0.4579\n",
      "----------------------------------------\n"
     ]
    },
    {
     "data": {
      "image/png": "[encoded data removed]",
      "text/plain": [
       "<Figure size 640x480 with 1 Axes>"
      ]
     },
     "metadata": {},
     "output_type": "display_data"
    }
   ],
   "source": [
    "W1,b1,W2,b2,Z2,A2 = gradient_descent(X_train_split, y_train_split, X_dev_split, y_dev_split, 1501, 0.1)"
   ]
  },
  {
   "cell_type": "markdown",
   "metadata": {},
   "source": [
    "# Testing"
   ]
  },
  {
   "cell_type": "markdown",
   "metadata": {},
   "source": [
    "**Prediction**"
   ]
  },
  {
   "cell_type": "code",
   "execution_count": 27,
   "metadata": {
    "trusted": true
   },
   "outputs": [],
   "source": [
    "def classification_report(y_true, y_pred):\n",
    "    import numpy as np\n",
    "    classes = np.unique(y_true)\n",
    "    header = f\"{'Class':<10}{'Precision':<10}{'Recall':<10}{'F1-Score':<10}{'Support':<10}\"\n",
    "    print(header)\n",
    "    print(\"-\" * len(header))\n",
    "    \n",
    "    for cls in classes:\n",
    "        true_positive = np.sum((y_pred == cls) & (y_true == cls))\n",
    "        false_positive = np.sum((y_pred == cls) & (y_true != cls))\n",
    "        false_negative = np.sum((y_pred != cls) & (y_true == cls))\n",
    "        support = np.sum(y_true == cls)\n",
    "        \n",
    "        precision = true_positive / (true_positive + false_positive) if (true_positive + false_positive) > 0 else 0\n",
    "        recall = true_positive / (true_positive + false_negative) if (true_positive + false_negative) > 0 else 0\n",
    "        f1_score = 2 * precision * recall / (precision + recall) if (precision + recall) > 0 else 0\n",
    "        \n",
    "        print(f\"{cls:<10}{precision:<10.2f}{recall:<10.2f}{f1_score:<10.2f}{support:<10}\")"
   ]
  },
  {
   "cell_type": "code",
   "execution_count": 28,
   "metadata": {
    "trusted": true
   },
   "outputs": [],
   "source": [
    "def make_predictions(X, W1, b1, W2, b2):\n",
    "    _, _, _, A2 = forward_pass(W1, b1, W2, b2, X)\n",
    "    predictions = get_predictions(A2)  # Returns class indices\n",
    "    return predictions\n",
    "\n",
    "def evaluate_model(W1, b1, W2, b2, X_test, y_test):\n",
    "    predictions = make_predictions(X_test, W1, b1, W2, b2)\n",
    "    print(\"Classification Report:\")\n",
    "    print(classification_report(y_test, predictions))  # Assumes `classification_report` is defined\n",
    "\n",
    "def test_prediction(index, W1, b1, W2, b2, X_test, y_test):\n",
    "    current_image = X_test[:, index, None]\n",
    "    prediction = make_predictions(current_image, W1, b1, W2, b2)\n",
    "    label = y_test[index]\n",
    "    \n",
    "    print('Prediction:', prediction[0])  # `prediction` is a single-element array\n",
    "    print('Label:', label)\n",
    "    \n",
    "    # Visualize the image\n",
    "    current_image = current_image.reshape((28, 28))\n",
    "    plt.figure(figsize=(2,2))\n",
    "    plt.imshow(current_image, interpolation='nearest')\n",
    "    plt.show()\n",
    "    \n",
    "def confusion_matrix(y_true, y_pred, num_classes):\n",
    "    matrix = np.zeros((num_classes, num_classes), dtype=int)\n",
    "    \n",
    "    for true_label, predicted_label in zip(y_true, y_pred):\n",
    "        matrix[true_label, predicted_label] += 1\n",
    "    \n",
    "    return matrix\n",
    "\n",
    "def plot_confusion_matrix(y_true, y_pred, num_classes):\n",
    "    cm = confusion_matrix(y_true, y_pred, num_classes)\n",
    "    \n",
    "    # Use seaborn to plot the heatmap\n",
    "    plt.figure(figsize=(8, 6))\n",
    "    sns.heatmap(cm, annot=True, fmt='d', cmap='Blues', cbar=False, xticklabels=range(num_classes), yticklabels=range(num_classes))\n",
    "    plt.xlabel('Predicted Labels')\n",
    "    plt.ylabel('True Labels')\n",
    "    plt.title('Confusion Matrix Heatmap')\n",
    "    plt.show()"
   ]
  },
  {
   "cell_type": "code",
   "execution_count": 29,
   "metadata": {
    "trusted": true
   },
   "outputs": [
    {
     "name": "stdout",
     "output_type": "stream",
     "text": [
      "Prediction: 9\n",
      "Label: 9\n"
     ]
    },
    {
     "data": {
      "image/png": "[encoded data removed]",
      "text/plain": [
       "<Figure size 200x200 with 1 Axes>"
      ]
     },
     "metadata": {},
     "output_type": "display_data"
    }
   ],
   "source": [
    "test_prediction(67, W1, b1, W2, b2, X_test, y_test)"
   ]
  },
  {
   "cell_type": "code",
   "execution_count": 31,
   "metadata": {
    "trusted": true
   },
   "outputs": [
    {
     "name": "stdout",
     "output_type": "stream",
     "text": [
      "Test Accuracy:  0.8499\n",
      "Class     Precision Recall    F1-Score  Support   \n",
      "--------------------------------------------------\n",
      "0         0.78      0.84      0.81      1000      \n",
      "1         0.96      0.97      0.97      1000      \n",
      "2         0.77      0.76      0.76      1000      \n",
      "3         0.86      0.88      0.87      1000      \n",
      "4         0.69      0.91      0.79      1000      \n",
      "5         0.93      0.91      0.92      1000      \n",
      "6         0.79      0.44      0.56      1000      \n",
      "7         0.91      0.90      0.90      1000      \n",
      "8         0.93      0.95      0.94      1000      \n",
      "9         0.91      0.94      0.93      1000      \n"
     ]
    },
    {
     "data": {
      "image/png": "[encoded data removed]",
      "text/plain": [
       "<Figure size 800x600 with 1 Axes>"
      ]
     },
     "metadata": {},
     "output_type": "display_data"
    }
   ],
   "source": [
    "Z1, A1, Z2, A2 = forward_pass(W1,b1,W2,b2,X_test)\n",
    "print(\"Test Accuracy: \", get_accuracy(get_predictions(A2),y_test))\n",
    "predictions = make_predictions(X_test, W1, b1, W2, b2)  # Predicted labels\n",
    "classification_report(y_test, predictions)  # Compare against true labels\n",
    "plot_confusion_matrix(y_test, predictions, num_classes=10)\n"
   ]
  },
  {
   "cell_type": "code",
   "execution_count": null,
   "metadata": {},
   "outputs": [],
   "source": []
  }
 ],
 "metadata": {
  "kaggle": {
   "accelerator": "none",
   "dataSources": [
    {
     "datasetId": 2243,
     "sourceId": 9243,
     "sourceType": "datasetVersion"
    },
    {
     "datasetId": 6480353,
     "sourceId": 10466693,
     "sourceType": "datasetVersion"
    }
   ],
   "dockerImageVersionId": 30822,
   "isGpuEnabled": false,
   "isInternetEnabled": false,
   "language": "python",
   "sourceType": "notebook"
  },
  "kernelspec": {
   "display_name": "Python 3",
   "language": "python",
   "name": "python3"
  },
  "language_info": {
   "codemirror_mode": {
    "name": "ipython",
    "version": 3
   },
   "file_extension": ".py",
   "mimetype": "text/x-python",
   "name": "python",
   "nbconvert_exporter": "python",
   "pygments_lexer": "ipython3",
   "version": "3.12.6"
  }
 },
 "nbformat": 4,
 "nbformat_minor": 4
}
