{
 "cells": [
  {
   "cell_type": "markdown",
   "metadata": {},
   "source": [
    "import necessary libraries"
   ]
  },
  {
   "cell_type": "code",
   "execution_count": 111,
   "metadata": {},
   "outputs": [],
   "source": [
    "import numpy as np\n",
    "import pandas as pd"
   ]
  },
  {
   "cell_type": "markdown",
   "metadata": {},
   "source": [
    " Step 1: Load the Dataset"
   ]
  },
  {
   "cell_type": "code",
   "execution_count": 112,
   "metadata": {},
   "outputs": [],
   "source": [
    "car_numeric_data = pd.read_csv('CarPrice_Assignment.csv')"
   ]
  },
  {
   "cell_type": "markdown",
   "metadata": {},
   "source": [
    "Step 2: Select Numerical Features"
   ]
  },
  {
   "cell_type": "code",
   "execution_count": 113,
   "metadata": {},
   "outputs": [],
   "source": [
    "\n",
    "numerical_columns = ['symboling', 'wheelbase', 'carlength', 'carwidth', 'carheight', 'curbweight',\n",
    "                     'enginesize', 'boreratio', 'stroke', 'compressionratio', 'horsepower', 'peakrpm',\n",
    "                     'citympg', 'highwaympg', 'price']\n",
    "\n",
    "car_numeric = car_numeric_data[numerical_columns]"
   ]
  },
  {
   "cell_type": "markdown",
   "metadata": {},
   "source": [
    "Step 3: Split Features  and Target"
   ]
  },
  {
   "cell_type": "code",
   "execution_count": 114,
   "metadata": {},
   "outputs": [],
   "source": [
    "X = car_numeric.drop(columns='price')\n",
    "y = car_numeric['price']"
   ]
  },
  {
   "cell_type": "markdown",
   "metadata": {},
   "source": [
    "Step 4: Normalize the Features"
   ]
  },
  {
   "cell_type": "code",
   "execution_count": 115,
   "metadata": {},
   "outputs": [],
   "source": [
    "X_normalized = (X - X.mean()) / X.std()"
   ]
  },
  {
   "cell_type": "markdown",
   "metadata": {},
   "source": [
    "Step 5: Define the Linear Regression Model with Gradient Descent\n"
   ]
  },
  {
   "cell_type": "code",
   "execution_count": 116,
   "metadata": {},
   "outputs": [],
   "source": [
    "class LinearRegression:\n",
    "    def __init__(self, learning_rate=0.01, iterations=1000):\n",
    "        self.learning_rate = learning_rate\n",
    "        self.iterations = iterations\n",
    "        self.weights = None\n",
    "        self.bias = None\n",
    "\n",
    "    def fit(self, X, y):\n",
    "        n_samples, n_features = X.shape\n",
    "        \n",
    "        # weights and bias\n",
    "        self.weights = np.zeros(n_features)\n",
    "        self.bias = 0\n",
    "\n",
    "        # Gradient descent\n",
    "        for _ in range(self.iterations):\n",
    "            # Linear prediction\n",
    "            y_predicted = np.dot(X, self.weights) + self.bias\n",
    "\n",
    "            # gradients\n",
    "            dw = (1 / n_samples) * np.dot(X.T, (y_predicted - y))\n",
    "            db = (1 / n_samples) * np.sum(y_predicted - y)\n",
    "\n",
    "            # Update weights and bias\n",
    "            self.weights -= self.learning_rate * dw\n",
    "            self.bias -= self.learning_rate * db\n",
    "\n",
    "    def predict(self, X):\n",
    "        return np.dot(X, self.weights) + self.bias\n"
   ]
  },
  {
   "cell_type": "markdown",
   "metadata": {},
   "source": [
    " Step 6: Start the model and train it"
   ]
  },
  {
   "cell_type": "code",
   "execution_count": 117,
   "metadata": {},
   "outputs": [],
   "source": [
    "model = LinearRegression(learning_rate=0.01, iterations=1000)\n",
    "model.fit(X_normalized.values, y)\n"
   ]
  },
  {
   "cell_type": "markdown",
   "metadata": {},
   "source": [
    "Step 7: Predict prices using the trained model\n"
   ]
  },
  {
   "cell_type": "code",
   "execution_count": 118,
   "metadata": {},
   "outputs": [],
   "source": [
    "predicted_prices = model.predict(X_normalized.values)"
   ]
  },
  {
   "cell_type": "markdown",
   "metadata": {},
   "source": [
    "Step 8: Print Model Equation\n"
   ]
  },
  {
   "cell_type": "code",
   "execution_count": 119,
   "metadata": {},
   "outputs": [
    {
     "name": "stdout",
     "output_type": "stream",
     "text": [
      "The linear model equation is:\n",
      "Price = 13276.14 + 342.87 * symboling + 563.83 * wheelbase + -410.53 * carlength + 976.77 * carwidth + 351.53 * carheight + 1221.63 * curbweight + 4003.28 * enginesize + -318.07 * boreratio + -870.98 * stroke + 963.15 * compressionratio + 1999.16 * horsepower + 922.32 * peakrpm + -190.25 * citympg + 98.39 * highwaympg\n"
     ]
    }
   ],
   "source": [
    "print(\"The linear model equation is:\")\n",
    "model_equation = f\"Price = {model.bias:.2f} + \" + \" + \".join([f\"{w:.2f} * {col}\" for w, col in zip(model.weights, X.columns)])\n",
    "print(model_equation)"
   ]
  },
  {
   "cell_type": "markdown",
   "metadata": {},
   "source": [
    "Step 9: Compare First Few Predicted Prices with Actual Prices\n"
   ]
  },
  {
   "cell_type": "code",
   "execution_count": 121,
   "metadata": {},
   "outputs": [
    {
     "name": "stdout",
     "output_type": "stream",
     "text": [
      "\n",
      "First few predicted prices vs actual prices:\n",
      "Predicted: $13175.61, Actual: $13495.00\n",
      "Predicted: $13175.61, Actual: $16500.00\n",
      "Predicted: $17964.39, Actual: $16500.00\n",
      "Predicted: $11962.00, Actual: $13950.00\n",
      "Predicted: $15986.27, Actual: $17450.00\n"
     ]
    }
   ],
   "source": [
    "print(\"\\nFirst few predicted prices vs actual prices:\")\n",
    "for i in range(5):\n",
    "    print(f\"Predicted: ${predicted_prices[i]:.2f}, Actual: ${y.values[i]:.2f}\")"
   ]
  }
 ],
 "metadata": {
  "kernelspec": {
   "display_name": "drone_tracking",
   "language": "python",
   "name": "python3"
  },
  "language_info": {
   "codemirror_mode": {
    "name": "ipython",
    "version": 3
   },
   "file_extension": ".py",
   "mimetype": "text/x-python",
   "name": "python",
   "nbconvert_exporter": "python",
   "pygments_lexer": "ipython3",
   "version": "3.9.18"
  }
 },
 "nbformat": 4,
 "nbformat_minor": 2
}
